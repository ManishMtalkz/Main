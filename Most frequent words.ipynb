{
 "cells": [
  {
   "cell_type": "code",
   "execution_count": 173,
   "id": "e465c57e",
   "metadata": {},
   "outputs": [],
   "source": [
    "import numpy as np\n",
    "import pandas as pd\n",
    "from sklearn import preprocessing\n",
    "from sklearn.feature_extraction.text import CountVectorizer, TfidfVectorizer\n",
    "from sklearn.model_selection import train_test_split, KFold\n",
    "from nltk.corpus import stopwords\n",
    "from nltk.stem.snowball import SnowballStemmer"
   ]
  },
  {
   "cell_type": "code",
   "execution_count": 174,
   "id": "29f20574",
   "metadata": {},
   "outputs": [],
   "source": [
    "df = pd.read_csv(\"https://mtalkzplatformstorage.blob.core.windows.net/mtalkz-files-transfer/ynX1KNPiiyFRLwS.csv\")\n"
   ]
  },
  {
   "cell_type": "code",
   "execution_count": 175,
   "id": "9029b25a",
   "metadata": {},
   "outputs": [
    {
     "data": {
      "text/html": [
       "<div>\n",
       "<style scoped>\n",
       "    .dataframe tbody tr th:only-of-type {\n",
       "        vertical-align: middle;\n",
       "    }\n",
       "\n",
       "    .dataframe tbody tr th {\n",
       "        vertical-align: top;\n",
       "    }\n",
       "\n",
       "    .dataframe thead th {\n",
       "        text-align: right;\n",
       "    }\n",
       "</style>\n",
       "<table border=\"1\" class=\"dataframe\">\n",
       "  <thead>\n",
       "    <tr style=\"text-align: right;\">\n",
       "      <th></th>\n",
       "      <th>Message</th>\n",
       "    </tr>\n",
       "  </thead>\n",
       "  <tbody>\n",
       "    <tr>\n",
       "      <th>0</th>\n",
       "      <td>Dear Partner,\\n \\nMake your client's home-buil...</td>\n",
       "    </tr>\n",
       "    <tr>\n",
       "      <th>1</th>\n",
       "      <td>Dear Partner,\\n \\nMake your client's home-buil...</td>\n",
       "    </tr>\n",
       "    <tr>\n",
       "      <th>2</th>\n",
       "      <td>Dear Partner,\\n \\nMake your client's home-buil...</td>\n",
       "    </tr>\n",
       "    <tr>\n",
       "      <th>3</th>\n",
       "      <td>Dear Partner,\\n \\nMake your client's home-buil...</td>\n",
       "    </tr>\n",
       "    <tr>\n",
       "      <th>4</th>\n",
       "      <td>Dear Partner,\\n \\nMake your client's home-buil...</td>\n",
       "    </tr>\n",
       "  </tbody>\n",
       "</table>\n",
       "</div>"
      ],
      "text/plain": [
       "                                             Message\n",
       "0  Dear Partner,\\n \\nMake your client's home-buil...\n",
       "1  Dear Partner,\\n \\nMake your client's home-buil...\n",
       "2  Dear Partner,\\n \\nMake your client's home-buil...\n",
       "3  Dear Partner,\\n \\nMake your client's home-buil...\n",
       "4  Dear Partner,\\n \\nMake your client's home-buil..."
      ]
     },
     "execution_count": 175,
     "metadata": {},
     "output_type": "execute_result"
    }
   ],
   "source": [
    "df2 = df[[\"Message\"]]\n",
    "df2.head()\n"
   ]
  },
  {
   "cell_type": "code",
   "execution_count": 176,
   "id": "6845676d",
   "metadata": {},
   "outputs": [
    {
     "data": {
      "text/plain": [
       "\"Dear Partner,\\n \\nMake your client's home-building experience all the more enriching!\\nTeam Utec by UltraTech\""
      ]
     },
     "execution_count": 176,
     "metadata": {},
     "output_type": "execute_result"
    }
   ],
   "source": [
    "df2.iloc[0]['Message']"
   ]
  },
  {
   "cell_type": "code",
   "execution_count": 177,
   "id": "b4431f9f",
   "metadata": {},
   "outputs": [
    {
     "data": {
      "text/plain": [
       "'!\"#$%&\\'()*+,-./:;<=>?@[\\\\]^_`{|}~'"
      ]
     },
     "execution_count": 177,
     "metadata": {},
     "output_type": "execute_result"
    }
   ],
   "source": [
    "import string\n",
    "string.punctuation\n",
    "\n"
   ]
  },
  {
   "cell_type": "code",
   "execution_count": 178,
   "id": "496d4e0c",
   "metadata": {},
   "outputs": [],
   "source": [
    "def remove_punctuation(Message):\n",
    "    import string\n",
    "    translator = str.maketrans('', '', string.punctuation)\n",
    "    return Message.translate(translator)"
   ]
  },
  {
   "cell_type": "code",
   "execution_count": 179,
   "id": "8ce62843",
   "metadata": {},
   "outputs": [
    {
     "data": {
      "text/plain": [
       "0    Dear Partner\\n \\nMake your clients homebuildin...\n",
       "1    Dear Partner\\n \\nMake your clients homebuildin...\n",
       "2    Dear Partner\\n \\nMake your clients homebuildin...\n",
       "3    Dear Partner\\n \\nMake your clients homebuildin...\n",
       "4    Dear Partner\\n \\nMake your clients homebuildin...\n",
       "5    Dear Partner\\n \\nMake your clients homebuildin...\n",
       "6    Dear Partner\\n \\nMake your clients homebuildin...\n",
       "7    Dear Partner\\n \\nMake your clients homebuildin...\n",
       "8    Dear Partner\\n \\nMake your clients homebuildin...\n",
       "9    Dear Partner\\n \\nMake your clients homebuildin...\n",
       "Name: Message, dtype: object"
      ]
     },
     "execution_count": 179,
     "metadata": {},
     "output_type": "execute_result"
    }
   ],
   "source": [
    "df3['Message'] = df2['Message'].apply(remove_punctuation)\n",
    "df3.head(10)"
   ]
  },
  {
   "cell_type": "code",
   "execution_count": 180,
   "id": "548ad398",
   "metadata": {},
   "outputs": [],
   "source": [
    "#dealing with stop words"
   ]
  },
  {
   "cell_type": "code",
   "execution_count": 181,
   "id": "0e9bcce3",
   "metadata": {},
   "outputs": [
    {
     "data": {
      "text/plain": [
       "array(['i', 'me', 'my', 'myself', 'we', 'our', 'ours', 'ourselves', 'you',\n",
       "       \"you're\", \"you've\", \"you'll\", \"you'd\", 'your', 'yours', 'yourself',\n",
       "       'yourselves', 'he', 'him', 'his', 'himself', 'she', \"she's\", 'her',\n",
       "       'hers', 'herself', 'it', \"it's\", 'its', 'itself', 'they', 'them',\n",
       "       'their', 'theirs', 'themselves', 'what', 'which', 'who', 'whom',\n",
       "       'this', 'that', \"that'll\", 'these', 'those', 'am', 'is', 'are',\n",
       "       'was', 'were', 'be', 'been', 'being', 'have', 'has', 'had',\n",
       "       'having', 'do', 'does', 'did', 'doing', 'a', 'an', 'the', 'and',\n",
       "       'but', 'if', 'or', 'because', 'as', 'until', 'while', 'of', 'at',\n",
       "       'by', 'for', 'with', 'about', 'against', 'between', 'into',\n",
       "       'through', 'during', 'before', 'after', 'above', 'below', 'to',\n",
       "       'from', 'up', 'down', 'in', 'out', 'on', 'off', 'over', 'under',\n",
       "       'again', 'further', 'then', 'once', 'here', 'there', 'when',\n",
       "       'where', 'why', 'how', 'all', 'any', 'both', 'each', 'few', 'more',\n",
       "       'most', 'other', 'some', 'such', 'no', 'nor', 'not', 'only', 'own',\n",
       "       'same', 'so', 'than', 'too', 'very', 's', 't', 'can', 'will',\n",
       "       'just', 'don', \"don't\", 'should', \"should've\", 'now', 'd', 'll',\n",
       "       'm', 'o', 're', 've', 'y', 'ain', 'aren', \"aren't\", 'couldn',\n",
       "       \"couldn't\", 'didn', \"didn't\", 'doesn', \"doesn't\", 'hadn', \"hadn't\",\n",
       "       'hasn', \"hasn't\", 'haven', \"haven't\", 'isn', \"isn't\", 'ma',\n",
       "       'mightn', \"mightn't\", 'mustn', \"mustn't\", 'needn', \"needn't\",\n",
       "       'shan', \"shan't\", 'shouldn', \"shouldn't\", 'wasn', \"wasn't\",\n",
       "       'weren', \"weren't\", 'won', \"won't\", 'wouldn', \"wouldn't\"],\n",
       "      dtype='<U10')"
      ]
     },
     "execution_count": 181,
     "metadata": {},
     "output_type": "execute_result"
    }
   ],
   "source": [
    "sw = stopwords.words('english')\n",
    "np.array(sw)"
   ]
  },
  {
   "cell_type": "code",
   "execution_count": 182,
   "id": "83babc99",
   "metadata": {},
   "outputs": [],
   "source": [
    "#now removing stop words"
   ]
  },
  {
   "cell_type": "code",
   "execution_count": 183,
   "id": "8a43db43",
   "metadata": {},
   "outputs": [],
   "source": [
    "def stopwords(Message):\n",
    "    Message = [word.lower() for word in Message.split() if word.lower() not in sw]\n",
    "    return \" \".join(Message)"
   ]
  },
  {
   "cell_type": "code",
   "execution_count": 184,
   "id": "adef9af4",
   "metadata": {},
   "outputs": [
    {
     "data": {
      "text/plain": [
       "0    dear partner make clients homebuilding experie...\n",
       "1    dear partner make clients homebuilding experie...\n",
       "2    dear partner make clients homebuilding experie...\n",
       "3    dear partner make clients homebuilding experie...\n",
       "4    dear partner make clients homebuilding experie...\n",
       "5    dear partner make clients homebuilding experie...\n",
       "6    dear partner make clients homebuilding experie...\n",
       "7    dear partner make clients homebuilding experie...\n",
       "8    dear partner make clients homebuilding experie...\n",
       "9    dear partner make clients homebuilding experie...\n",
       "Name: Message, dtype: object"
      ]
     },
     "execution_count": 184,
     "metadata": {},
     "output_type": "execute_result"
    }
   ],
   "source": [
    "df4['Message'] = df3['Message'].apply(stopwords)\n",
    "df4.head(10)"
   ]
  },
  {
   "cell_type": "code",
   "execution_count": 185,
   "id": "0de46de7",
   "metadata": {},
   "outputs": [
    {
     "data": {
      "text/plain": [
       "'dear partner make clients homebuilding experience enriching team utec ultratech'"
      ]
     },
     "execution_count": 185,
     "metadata": {},
     "output_type": "execute_result"
    }
   ],
   "source": [
    "df4.iloc[0]"
   ]
  },
  {
   "cell_type": "code",
   "execution_count": 193,
   "id": "061f29ef",
   "metadata": {},
   "outputs": [
    {
     "data": {
      "text/plain": [
       "dict_items([('dear', 1), ('partner', 6), ('make', 5), ('clients', 0), ('homebuilding', 4), ('experience', 3), ('enriching', 2), ('team', 7), ('utec', 9), ('ultratech', 8)])"
      ]
     },
     "execution_count": 193,
     "metadata": {},
     "output_type": "execute_result"
    }
   ],
   "source": [
    "count_vectorizer = CountVectorizer()\n",
    "count_vectorizer.fit(df4['Message'])\n",
    "dictionary = count_vectorizer.vocabulary_.items()\n",
    "dictionary\n"
   ]
  },
  {
   "cell_type": "code",
   "execution_count": null,
   "id": "68c5c22c",
   "metadata": {},
   "outputs": [],
   "source": []
  },
  {
   "cell_type": "code",
   "execution_count": null,
   "id": "b235376d",
   "metadata": {},
   "outputs": [],
   "source": []
  },
  {
   "cell_type": "code",
   "execution_count": null,
   "id": "b11ffe3d",
   "metadata": {},
   "outputs": [],
   "source": []
  }
 ],
 "metadata": {
  "kernelspec": {
   "display_name": "Python 3 (ipykernel)",
   "language": "python",
   "name": "python3"
  },
  "language_info": {
   "codemirror_mode": {
    "name": "ipython",
    "version": 3
   },
   "file_extension": ".py",
   "mimetype": "text/x-python",
   "name": "python",
   "nbconvert_exporter": "python",
   "pygments_lexer": "ipython3",
   "version": "3.10.8"
  }
 },
 "nbformat": 4,
 "nbformat_minor": 5
}
