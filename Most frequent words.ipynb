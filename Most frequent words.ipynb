{
 "cells": [
  {
   "cell_type": "code",
   "execution_count": 26,
   "id": "e465c57e",
   "metadata": {},
   "outputs": [],
   "source": [
    "import numpy as np\n",
    "import pandas as pd\n",
    "from sklearn import preprocessing\n",
    "from sklearn.feature_extraction.text import CountVectorizer, TfidfVectorizer\n",
    "from sklearn.model_selection import train_test_split, KFold\n",
    "from nltk.corpus import stopwords\n",
    "from nltk.stem.snowball import SnowballStemmer"
   ]
  },
  {
   "cell_type": "code",
   "execution_count": 27,
   "id": "29f20574",
   "metadata": {},
   "outputs": [],
   "source": [
    "df = pd.read_csv(\"Sample-test.csv\",low_memory = False)\n"
   ]
  },
  {
   "cell_type": "code",
   "execution_count": 28,
   "id": "9029b25a",
   "metadata": {},
   "outputs": [
    {
     "data": {
      "text/html": [
       "<div>\n",
       "<style scoped>\n",
       "    .dataframe tbody tr th:only-of-type {\n",
       "        vertical-align: middle;\n",
       "    }\n",
       "\n",
       "    .dataframe tbody tr th {\n",
       "        vertical-align: top;\n",
       "    }\n",
       "\n",
       "    .dataframe thead th {\n",
       "        text-align: right;\n",
       "    }\n",
       "</style>\n",
       "<table border=\"1\" class=\"dataframe\">\n",
       "  <thead>\n",
       "    <tr style=\"text-align: right;\">\n",
       "      <th></th>\n",
       "      <th>Message</th>\n",
       "    </tr>\n",
       "  </thead>\n",
       "  <tbody>\n",
       "    <tr>\n",
       "      <th>0</th>\n",
       "      <td>An Investment that comes with a surprise! Buy ...</td>\n",
       "    </tr>\n",
       "    <tr>\n",
       "      <th>1</th>\n",
       "      <td>An Investment that comes with a surprise! Buy ...</td>\n",
       "    </tr>\n",
       "    <tr>\n",
       "      <th>2</th>\n",
       "      <td>An Investment that comes with a surprise! Buy ...</td>\n",
       "    </tr>\n",
       "    <tr>\n",
       "      <th>3</th>\n",
       "      <td>An Investment that comes with a surprise! Buy ...</td>\n",
       "    </tr>\n",
       "    <tr>\n",
       "      <th>4</th>\n",
       "      <td>An Investment that comes with a surprise! Buy ...</td>\n",
       "    </tr>\n",
       "  </tbody>\n",
       "</table>\n",
       "</div>"
      ],
      "text/plain": [
       "                                             Message\n",
       "0  An Investment that comes with a surprise! Buy ...\n",
       "1  An Investment that comes with a surprise! Buy ...\n",
       "2  An Investment that comes with a surprise! Buy ...\n",
       "3  An Investment that comes with a surprise! Buy ...\n",
       "4  An Investment that comes with a surprise! Buy ..."
      ]
     },
     "execution_count": 28,
     "metadata": {},
     "output_type": "execute_result"
    }
   ],
   "source": [
    "df2 = df[[\"Message\"]]\n",
    "df2.head()\n"
   ]
  },
  {
   "cell_type": "code",
   "execution_count": 29,
   "id": "1853f741",
   "metadata": {},
   "outputs": [
    {
     "data": {
      "text/plain": [
       "'An Investment that comes with a surprise! Buy your first crypto on CoinDCX! Download App: https://cutt.ly/PMxlb9r'"
      ]
     },
     "execution_count": 29,
     "metadata": {},
     "output_type": "execute_result"
    }
   ],
   "source": [
    "df2.iloc[0]['Message']"
   ]
  },
  {
   "cell_type": "code",
   "execution_count": 30,
   "id": "62166a78",
   "metadata": {},
   "outputs": [
    {
     "data": {
      "text/plain": [
       "'!\"#$%&\\'()*+,-./:;<=>?@[\\\\]^_`{|}~'"
      ]
     },
     "execution_count": 30,
     "metadata": {},
     "output_type": "execute_result"
    }
   ],
   "source": [
    "import string\n",
    "string.punctuation\n",
    "\n"
   ]
  },
  {
   "cell_type": "code",
   "execution_count": 31,
   "id": "322c05f2",
   "metadata": {},
   "outputs": [],
   "source": [
    "def remove_punctuation(Message):\n",
    "    import string\n",
    "    translator = str.maketrans('', '', string.punctuation)\n",
    "    return Message.translate(translator)"
   ]
  },
  {
   "cell_type": "code",
   "execution_count": 40,
   "id": "bfb9cb5f",
   "metadata": {},
   "outputs": [
    {
     "data": {
      "text/html": [
       "<div>\n",
       "<style scoped>\n",
       "    .dataframe tbody tr th:only-of-type {\n",
       "        vertical-align: middle;\n",
       "    }\n",
       "\n",
       "    .dataframe tbody tr th {\n",
       "        vertical-align: top;\n",
       "    }\n",
       "\n",
       "    .dataframe thead th {\n",
       "        text-align: right;\n",
       "    }\n",
       "</style>\n",
       "<table border=\"1\" class=\"dataframe\">\n",
       "  <thead>\n",
       "    <tr style=\"text-align: right;\">\n",
       "      <th></th>\n",
       "      <th>index</th>\n",
       "      <th>Message</th>\n",
       "    </tr>\n",
       "  </thead>\n",
       "  <tbody>\n",
       "    <tr>\n",
       "      <th>0</th>\n",
       "      <td>0</td>\n",
       "      <td>An Investment that comes with a surprise Buy y...</td>\n",
       "    </tr>\n",
       "    <tr>\n",
       "      <th>1</th>\n",
       "      <td>1</td>\n",
       "      <td>An Investment that comes with a surprise Buy y...</td>\n",
       "    </tr>\n",
       "    <tr>\n",
       "      <th>2</th>\n",
       "      <td>2</td>\n",
       "      <td>An Investment that comes with a surprise Buy y...</td>\n",
       "    </tr>\n",
       "    <tr>\n",
       "      <th>3</th>\n",
       "      <td>3</td>\n",
       "      <td>An Investment that comes with a surprise Buy y...</td>\n",
       "    </tr>\n",
       "    <tr>\n",
       "      <th>4</th>\n",
       "      <td>4</td>\n",
       "      <td>An Investment that comes with a surprise Buy y...</td>\n",
       "    </tr>\n",
       "    <tr>\n",
       "      <th>5</th>\n",
       "      <td>5</td>\n",
       "      <td>An Investment that comes with a surprise Buy y...</td>\n",
       "    </tr>\n",
       "    <tr>\n",
       "      <th>6</th>\n",
       "      <td>6</td>\n",
       "      <td>An Investment that comes with a surprise Buy y...</td>\n",
       "    </tr>\n",
       "    <tr>\n",
       "      <th>7</th>\n",
       "      <td>7</td>\n",
       "      <td>An Investment that comes with a surprise Buy y...</td>\n",
       "    </tr>\n",
       "    <tr>\n",
       "      <th>8</th>\n",
       "      <td>8</td>\n",
       "      <td>An Investment that comes with a surprise Buy y...</td>\n",
       "    </tr>\n",
       "    <tr>\n",
       "      <th>9</th>\n",
       "      <td>9</td>\n",
       "      <td>An Investment that comes with a surprise Buy y...</td>\n",
       "    </tr>\n",
       "  </tbody>\n",
       "</table>\n",
       "</div>"
      ],
      "text/plain": [
       "   index                                            Message\n",
       "0      0  An Investment that comes with a surprise Buy y...\n",
       "1      1  An Investment that comes with a surprise Buy y...\n",
       "2      2  An Investment that comes with a surprise Buy y...\n",
       "3      3  An Investment that comes with a surprise Buy y...\n",
       "4      4  An Investment that comes with a surprise Buy y...\n",
       "5      5  An Investment that comes with a surprise Buy y...\n",
       "6      6  An Investment that comes with a surprise Buy y...\n",
       "7      7  An Investment that comes with a surprise Buy y...\n",
       "8      8  An Investment that comes with a surprise Buy y...\n",
       "9      9  An Investment that comes with a surprise Buy y..."
      ]
     },
     "execution_count": 40,
     "metadata": {},
     "output_type": "execute_result"
    }
   ],
   "source": [
    "df3 = df2['Message'].apply(remove_punctuation).reset_index()\n",
    "df3.head(10)"
   ]
  },
  {
   "cell_type": "code",
   "execution_count": 45,
   "id": "b89907e7",
   "metadata": {},
   "outputs": [],
   "source": [
    "#now removing stop words"
   ]
  },
  {
   "cell_type": "code",
   "execution_count": 47,
   "id": "dd1a4c5b",
   "metadata": {},
   "outputs": [],
   "source": [
    "def stopwords(Message):\n",
    "    Message = [word.lower() for word in Message.split() if word.lower() not in sw]\n",
    "    return \" \".join(Message)"
   ]
  },
  {
   "cell_type": "code",
   "execution_count": 51,
   "id": "b9ded997",
   "metadata": {},
   "outputs": [
    {
     "data": {
      "text/html": [
       "<div>\n",
       "<style scoped>\n",
       "    .dataframe tbody tr th:only-of-type {\n",
       "        vertical-align: middle;\n",
       "    }\n",
       "\n",
       "    .dataframe tbody tr th {\n",
       "        vertical-align: top;\n",
       "    }\n",
       "\n",
       "    .dataframe thead th {\n",
       "        text-align: right;\n",
       "    }\n",
       "</style>\n",
       "<table border=\"1\" class=\"dataframe\">\n",
       "  <thead>\n",
       "    <tr style=\"text-align: right;\">\n",
       "      <th></th>\n",
       "      <th>index</th>\n",
       "      <th>Message</th>\n",
       "    </tr>\n",
       "  </thead>\n",
       "  <tbody>\n",
       "    <tr>\n",
       "      <th>0</th>\n",
       "      <td>0</td>\n",
       "      <td>investment comes surprise buy first crypto coi...</td>\n",
       "    </tr>\n",
       "    <tr>\n",
       "      <th>1</th>\n",
       "      <td>1</td>\n",
       "      <td>investment comes surprise buy first crypto coi...</td>\n",
       "    </tr>\n",
       "    <tr>\n",
       "      <th>2</th>\n",
       "      <td>2</td>\n",
       "      <td>investment comes surprise buy first crypto coi...</td>\n",
       "    </tr>\n",
       "    <tr>\n",
       "      <th>3</th>\n",
       "      <td>3</td>\n",
       "      <td>investment comes surprise buy first crypto coi...</td>\n",
       "    </tr>\n",
       "    <tr>\n",
       "      <th>4</th>\n",
       "      <td>4</td>\n",
       "      <td>investment comes surprise buy first crypto coi...</td>\n",
       "    </tr>\n",
       "    <tr>\n",
       "      <th>5</th>\n",
       "      <td>5</td>\n",
       "      <td>investment comes surprise buy first crypto coi...</td>\n",
       "    </tr>\n",
       "    <tr>\n",
       "      <th>6</th>\n",
       "      <td>6</td>\n",
       "      <td>investment comes surprise buy first crypto coi...</td>\n",
       "    </tr>\n",
       "    <tr>\n",
       "      <th>7</th>\n",
       "      <td>7</td>\n",
       "      <td>investment comes surprise buy first crypto coi...</td>\n",
       "    </tr>\n",
       "    <tr>\n",
       "      <th>8</th>\n",
       "      <td>8</td>\n",
       "      <td>investment comes surprise buy first crypto coi...</td>\n",
       "    </tr>\n",
       "    <tr>\n",
       "      <th>9</th>\n",
       "      <td>9</td>\n",
       "      <td>investment comes surprise buy first crypto coi...</td>\n",
       "    </tr>\n",
       "  </tbody>\n",
       "</table>\n",
       "</div>"
      ],
      "text/plain": [
       "   index                                            Message\n",
       "0      0  investment comes surprise buy first crypto coi...\n",
       "1      1  investment comes surprise buy first crypto coi...\n",
       "2      2  investment comes surprise buy first crypto coi...\n",
       "3      3  investment comes surprise buy first crypto coi...\n",
       "4      4  investment comes surprise buy first crypto coi...\n",
       "5      5  investment comes surprise buy first crypto coi...\n",
       "6      6  investment comes surprise buy first crypto coi...\n",
       "7      7  investment comes surprise buy first crypto coi...\n",
       "8      8  investment comes surprise buy first crypto coi...\n",
       "9      9  investment comes surprise buy first crypto coi..."
      ]
     },
     "execution_count": 51,
     "metadata": {},
     "output_type": "execute_result"
    }
   ],
   "source": [
    "df4 = df3['Message'].apply(stopwords).reset_index()\n",
    "df4.head(10)"
   ]
  },
  {
   "cell_type": "code",
   "execution_count": 52,
   "id": "5407c1c1",
   "metadata": {},
   "outputs": [
    {
     "data": {
      "text/plain": [
       "index                                                      0\n",
       "Message    investment comes surprise buy first crypto coi...\n",
       "Name: 0, dtype: object"
      ]
     },
     "execution_count": 52,
     "metadata": {},
     "output_type": "execute_result"
    }
   ],
   "source": [
    "df4.iloc[0]"
   ]
  },
  {
   "cell_type": "code",
   "execution_count": 53,
   "id": "15a8348a",
   "metadata": {},
   "outputs": [
    {
     "data": {
      "text/plain": [
       "dict_items([('investment', 20), ('comes', 10), ('surprise', 31), ('buy', 8), ('first', 15), ('crypto', 11), ('coindcx', 9), ('download', 13), ('app', 4), ('httpscuttlypmxlb9r', 17), ('diversify', 12), ('portfolio', 27), ('btc', 7), ('eth', 14), ('invest', 19), ('get', 16), ('rs', 29), ('250', 0), ('amazon', 3), ('voucher', 34), ('httpsmtalkzcom', 18), ('new', 23), ('age', 2), ('assets', 5), ('otp', 25), ('one', 24), ('time', 32), ('password', 26), ('var', 33), ('authenticate', 6), ('login', 21), ('powered', 28), ('mtalkz', 22), ('हक', 44), ('पर', 42), ('करण', 39), ('आपक', 36), ('ओट', 37), ('पय', 41), ('अपन', 35), ('करन', 40), ('सत', 43), ('कर', 38), ('supportmtalkzcom', 30), ('919868629924', 1)])"
      ]
     },
     "execution_count": 53,
     "metadata": {},
     "output_type": "execute_result"
    }
   ],
   "source": [
    "count_vectorizer = CountVectorizer()\n",
    "count_vectorizer.fit(df4['Message'])\n",
    "dictionary = count_vectorizer.vocabulary_.items()\n",
    "dictionary\n"
   ]
  },
  {
   "cell_type": "code",
   "execution_count": 54,
   "id": "864d7baa",
   "metadata": {},
   "outputs": [],
   "source": []
  },
  {
   "cell_type": "code",
   "execution_count": null,
   "id": "9ea3e450",
   "metadata": {},
   "outputs": [],
   "source": []
  },
  {
   "cell_type": "code",
   "execution_count": null,
   "id": "6ddf5f4a",
   "metadata": {},
   "outputs": [],
   "source": []
  }
 ],
 "metadata": {
  "kernelspec": {
   "display_name": "Python 3 (ipykernel)",
   "language": "python",
   "name": "python3"
  },
  "language_info": {
   "codemirror_mode": {
    "name": "ipython",
    "version": 3
   },
   "file_extension": ".py",
   "mimetype": "text/x-python",
   "name": "python",
   "nbconvert_exporter": "python",
   "pygments_lexer": "ipython3",
   "version": "3.10.8"
  }
 },
 "nbformat": 4,
 "nbformat_minor": 5
}
